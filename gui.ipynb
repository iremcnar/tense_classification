{
 "cells": [
  {
   "cell_type": "code",
   "execution_count": 1,
   "id": "1010d67a",
   "metadata": {},
   "outputs": [
    {
     "name": "stderr",
     "output_type": "stream",
     "text": [
      "WARNING:absl:Compiled the loaded model, but the compiled metrics have yet to be built. `model.compile_metrics` will be empty until you train or evaluate the model.\n"
     ]
    },
    {
     "name": "stdout",
     "output_type": "stream",
     "text": [
      "\u001b[1m1/1\u001b[0m \u001b[32m━━━━━━━━━━━━━━━━━━━━\u001b[0m\u001b[37m\u001b[0m \u001b[1m1s\u001b[0m 613ms/step\n",
      "\u001b[1m1/1\u001b[0m \u001b[32m━━━━━━━━━━━━━━━━━━━━\u001b[0m\u001b[37m\u001b[0m \u001b[1m0s\u001b[0m 47ms/step\n",
      "\u001b[1m1/1\u001b[0m \u001b[32m━━━━━━━━━━━━━━━━━━━━\u001b[0m\u001b[37m\u001b[0m \u001b[1m0s\u001b[0m 32ms/step\n",
      "\u001b[1m1/1\u001b[0m \u001b[32m━━━━━━━━━━━━━━━━━━━━\u001b[0m\u001b[37m\u001b[0m \u001b[1m0s\u001b[0m 35ms/step\n",
      "\u001b[1m1/1\u001b[0m \u001b[32m━━━━━━━━━━━━━━━━━━━━\u001b[0m\u001b[37m\u001b[0m \u001b[1m0s\u001b[0m 51ms/step\n",
      "\u001b[1m1/1\u001b[0m \u001b[32m━━━━━━━━━━━━━━━━━━━━\u001b[0m\u001b[37m\u001b[0m \u001b[1m0s\u001b[0m 32ms/step\n",
      "\u001b[1m1/1\u001b[0m \u001b[32m━━━━━━━━━━━━━━━━━━━━\u001b[0m\u001b[37m\u001b[0m \u001b[1m0s\u001b[0m 26ms/step\n",
      "\u001b[1m1/1\u001b[0m \u001b[32m━━━━━━━━━━━━━━━━━━━━\u001b[0m\u001b[37m\u001b[0m \u001b[1m0s\u001b[0m 31ms/step\n"
     ]
    }
   ],
   "source": [
    "import tkinter as tk\n",
    "from tkinter import messagebox\n",
    "import numpy as np\n",
    "import re\n",
    "import tensorflow as tf\n",
    "import pickle\n",
    "from tensorflow.keras.preprocessing.sequence import pad_sequences\n",
    "\n",
    "# Metni temizleme fonksiyonu\n",
    "def preprocess_text(text):\n",
    "    text = text.lower()\n",
    "    text = re.sub(r'[^\\w\\s]', '', text)\n",
    "    text = re.sub(r'\\d+', '', text)\n",
    "    return text.strip()\n",
    "\n",
    "# Tahmin fonksiyonu\n",
    "def combined_predict(sentence, model, tokenizer, max_length):\n",
    "    processed = preprocess_text(sentence)\n",
    "    seq = tokenizer.texts_to_sequences([processed])\n",
    "    pad = pad_sequences(seq, maxlen=max_length, padding='post', truncating='post')\n",
    "    pred = model.predict(pad)[0]\n",
    "    predicted_class = np.argmax(pred)\n",
    "    return predicted_class + 1, pred  # 1: Present, 2: Past, 3: Future\n",
    "\n",
    "# GUI'deki buton işlevi\n",
    "def classify_sentence():\n",
    "    sentence = entry.get()\n",
    "    if not sentence.strip():\n",
    "        messagebox.showwarning(\"Uyarı\", \"Lütfen bir cümle girin.\")\n",
    "        return\n",
    "    \n",
    "    tense_index, confidence = combined_predict(sentence, model, tokenizer, max_length)\n",
    "    tense_map = {1: \"Present Tense\", 2: \"Past Tense\", 3: \"Future Tense\"}\n",
    "    result_text = f\"Tahmin: {tense_map[tense_index]}\\n\\nGüven:\\n\"\n",
    "    result_text += f\"Present: {confidence[0]*100:.1f}%\\n\"\n",
    "    result_text += f\"Past   : {confidence[1]*100:.1f}%\\n\"\n",
    "    result_text += f\"Future : {confidence[2]*100:.1f}%\"\n",
    "    result_label.config(text=result_text)\n",
    "\n",
    "# Model ve tokenizer yükleme\n",
    "model = tf.keras.models.load_model(\"tense_classifier.h5\")\n",
    "with open(\"tokenizer.pickle\", \"rb\") as handle:\n",
    "    tokenizer = pickle.load(handle)\n",
    "\n",
    "max_length = 50  # Eğitimde kullandığın pad uzunluğu\n",
    "\n",
    "# ---------------- GUI ---------------- #\n",
    "root = tk.Tk()\n",
    "root.title(\"Tense Classifier\")\n",
    "root.geometry(\"450x300\")\n",
    "root.resizable(False, False)\n",
    "\n",
    "tk.Label(root, text=\"İngilizce bir cümle girin:\", font=(\"Arial\", 12)).pack(pady=10)\n",
    "entry = tk.Entry(root, width=60)\n",
    "entry.pack()\n",
    "\n",
    "tk.Button(root, text=\"Sınıflandır\", command=classify_sentence, font=(\"Arial\", 10)).pack(pady=10)\n",
    "\n",
    "result_label = tk.Label(root, text=\"\", font=(\"Arial\", 11), justify=\"left\")\n",
    "result_label.pack(pady=20)\n",
    "\n",
    "root.mainloop()\n"
   ]
  }
 ],
 "metadata": {
  "kernelspec": {
   "display_name": "nlp",
   "language": "python",
   "name": "python3"
  },
  "language_info": {
   "codemirror_mode": {
    "name": "ipython",
    "version": 3
   },
   "file_extension": ".py",
   "mimetype": "text/x-python",
   "name": "python",
   "nbconvert_exporter": "python",
   "pygments_lexer": "ipython3",
   "version": "3.10.16"
  }
 },
 "nbformat": 4,
 "nbformat_minor": 5
}
